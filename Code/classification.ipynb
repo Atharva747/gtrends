{
 "cells": [
  {
   "cell_type": "code",
   "execution_count": 22,
   "metadata": {},
   "outputs": [],
   "source": [
    "from pytrends.request import TrendReq\n",
    "import pandas as pd\n",
    "import matplotlib.pyplot as plt"
   ]
  },
  {
   "cell_type": "code",
   "execution_count": 23,
   "metadata": {},
   "outputs": [],
   "source": [
    "pytrends = TrendReq(hl='en-US', tz=360, timeout=(10,25))"
   ]
  },
  {
   "cell_type": "code",
   "execution_count": 24,
   "metadata": {},
   "outputs": [],
   "source": [
    "def getdata(term):\n",
    "\tkw_list = [term]\n",
    "\tpytrends.build_payload(kw_list, cat=0, timeframe='today 5-y', geo='', gprop='')\n",
    "\tdf = pytrends.interest_over_time()\n",
    "\treturn df"
   ]
  },
  {
   "cell_type": "code",
   "execution_count": 25,
   "metadata": {},
   "outputs": [],
   "source": [
    "def plotdata(term):\n",
    "    df = getdata(term)\n",
    "    df.plot()"
   ]
  },
  {
   "cell_type": "code",
   "execution_count": 26,
   "metadata": {},
   "outputs": [
    {
     "name": "stderr",
     "output_type": "stream",
     "text": "/home/clearly/.local/lib/python3.6/site-packages/IPython/core/interactiveshell.py:3051: DtypeWarning: Columns (9) have mixed types. Specify dtype option on import or set low_memory=False.\n  interactivity=interactivity, compiler=compiler, result=result)\n"
    }
   ],
   "source": [
    "stocks = pd.read_csv(\"data/daily_stocks.csv\")"
   ]
  },
  {
   "cell_type": "code",
   "execution_count": 36,
   "metadata": {},
   "outputs": [],
   "source": [
    "newstocks = stocks[stocks['date']>20150000] # Restrict to data after 2015"
   ]
  },
  {
   "cell_type": "code",
   "execution_count": 37,
   "metadata": {},
   "outputs": [
    {
     "data": {
      "text/html": "<div>\n<style scoped>\n    .dataframe tbody tr th:only-of-type {\n        vertical-align: middle;\n    }\n\n    .dataframe tbody tr th {\n        vertical-align: top;\n    }\n\n    .dataframe thead th {\n        text-align: right;\n    }\n</style>\n<table border=\"1\" class=\"dataframe\">\n  <thead>\n    <tr style=\"text-align: right;\">\n      <th></th>\n      <th>PERMNO</th>\n      <th>date</th>\n      <th>TICKER</th>\n      <th>BIDLO</th>\n      <th>ASKHI</th>\n      <th>PRC</th>\n      <th>BID</th>\n      <th>ASK</th>\n      <th>OPENPRC</th>\n      <th>RETX</th>\n    </tr>\n  </thead>\n  <tbody>\n    <tr>\n      <th>2014</th>\n      <td>10026</td>\n      <td>20150102</td>\n      <td>JJSF</td>\n      <td>106.810</td>\n      <td>109.446</td>\n      <td>107.69</td>\n      <td>107.45</td>\n      <td>107.69</td>\n      <td>109.18</td>\n      <td>-0.009929</td>\n    </tr>\n    <tr>\n      <th>2015</th>\n      <td>10026</td>\n      <td>20150105</td>\n      <td>JJSF</td>\n      <td>106.760</td>\n      <td>108.430</td>\n      <td>107.24</td>\n      <td>107.25</td>\n      <td>107.39</td>\n      <td>107.41</td>\n      <td>-0.004179</td>\n    </tr>\n    <tr>\n      <th>2016</th>\n      <td>10026</td>\n      <td>20150106</td>\n      <td>JJSF</td>\n      <td>106.185</td>\n      <td>108.690</td>\n      <td>107.27</td>\n      <td>107.25</td>\n      <td>107.55</td>\n      <td>107.84</td>\n      <td>0.000280</td>\n    </tr>\n    <tr>\n      <th>2017</th>\n      <td>10026</td>\n      <td>20150107</td>\n      <td>JJSF</td>\n      <td>106.495</td>\n      <td>108.770</td>\n      <td>108.73</td>\n      <td>108.62</td>\n      <td>108.75</td>\n      <td>107.70</td>\n      <td>0.013611</td>\n    </tr>\n    <tr>\n      <th>2018</th>\n      <td>10026</td>\n      <td>20150108</td>\n      <td>JJSF</td>\n      <td>109.110</td>\n      <td>111.280</td>\n      <td>110.32</td>\n      <td>110.31</td>\n      <td>110.71</td>\n      <td>109.48</td>\n      <td>0.014623</td>\n    </tr>\n  </tbody>\n</table>\n</div>",
      "text/plain": "      PERMNO      date TICKER    BIDLO    ASKHI     PRC     BID     ASK  \\\n2014   10026  20150102   JJSF  106.810  109.446  107.69  107.45  107.69   \n2015   10026  20150105   JJSF  106.760  108.430  107.24  107.25  107.39   \n2016   10026  20150106   JJSF  106.185  108.690  107.27  107.25  107.55   \n2017   10026  20150107   JJSF  106.495  108.770  108.73  108.62  108.75   \n2018   10026  20150108   JJSF  109.110  111.280  110.32  110.31  110.71   \n\n      OPENPRC       RETX  \n2014   109.18  -0.009929  \n2015   107.41  -0.004179  \n2016   107.84   0.000280  \n2017   107.70   0.013611  \n2018   109.48   0.014623  "
     },
     "execution_count": 37,
     "metadata": {},
     "output_type": "execute_result"
    }
   ],
   "source": [
    "newstocks.head()"
   ]
  },
  {
   "cell_type": "code",
   "execution_count": 38,
   "metadata": {},
   "outputs": [],
   "source": [
    "def find_date_string(row):\n",
    "    ds = str(row['date']-1)\n",
    "    dates = ds[:4] + \"-\" + ds[4:6] + \"-\" + ds[6:]\n",
    "    return dates"
   ]
  },
  {
   "cell_type": "code",
   "execution_count": 39,
   "metadata": {},
   "outputs": [],
   "source": [
    "def getdf(searches, ticker):\n",
    "    df = newstocks[newstocks[\"TICKER\"]==ticker]\n",
    "    df['date_string'] = df.apply(lambda row: find_date_string(row), axis=1)\n",
    "    trends_data = getdata(searches[0])\n",
    "    for i in range(1, len(searches)):\n",
    "        s = searches[i]\n",
    "        newtrends = getdata(s)\n",
    "        trends_data = trends_data.join(newtrends, rsuffix='_'+s)\n",
    "    s = set(trends_data.index.values)\n",
    "    s = set([str(x)[:10] for x in s])\n",
    "    df = df[df['date_string'].isin(s)]\n",
    "    df.plot(y='BID')\n",
    "    for s in searches:\n",
    "        df[s] = df.apply(lambda row: trends_data.loc[row['date_string']][s], axis=1)\n",
    "        df.plot(y=s)\n",
    "    print(df)\n",
    "    return df"
   ]
  },
  {
   "cell_type": "code",
   "execution_count": 41,
   "metadata": {},
   "outputs": [],
   "source": [
    "from sklearn import linear_model"
   ]
  },
  {
   "cell_type": "code",
   "execution_count": 55,
   "metadata": {},
   "outputs": [],
   "source": [
    "def easy(ticker):\n",
    "    features = [\"buy \" + ticker, \"sell \" + ticker, ticker]\n",
    "    data = getdf(features, ticker)\n",
    "    X = pd.DataFrame(data, columns=features)\n",
    "    y = data['BID']\n",
    "    print(\"------------------------------------\")\n",
    "    print(\"x: \")\n",
    "    print(X)\n",
    "    print(\"------------------------------------\")\n",
    "    print(\"y: \")\n",
    "    print(y)\n",
    "    clf =  linear_model.SGDClassifier(alpha=0.0001, average=False, class_weight=None, early_stopping=False, epsilon=0.1, eta0=0.0, fit_intercept=True, l1_ratio=0.15, learning_rate='optimal', loss='hinge', max_iter=1000, n_iter_no_change=5, n_jobs=None, penalty='l2', power_t=0.5, random_state=None, shuffle=True, tol=0.001, validation_fraction=0.1, verbose=0, warm_start=False)\n",
    "    clf.fit(X, y[1])\n",
    "    print(clf.score(X, y[1]))\n",
    "    "
   ]
  },
  {
   "cell_type": "code",
   "execution_count": 56,
   "metadata": {},
   "outputs": [
    {
     "name": "stderr",
     "output_type": "stream",
     "text": "/home/clearly/.local/lib/python3.6/site-packages/ipykernel_launcher.py:3: SettingWithCopyWarning: \nA value is trying to be set on a copy of a slice from a DataFrame.\nTry using .loc[row_indexer,col_indexer] = value instead\n\nSee the caveats in the documentation: http://pandas.pydata.org/pandas-docs/stable/user_guide/indexing.html#returning-a-view-versus-a-copy\n  This is separate from the ipykernel package so we can avoid doing imports until\n         PERMNO      date TICKER       BIDLO       ASKHI         PRC  \\\n8125309   90319  20150105  GOOGL   517.75000   527.98993   519.46002   \n8125314   90319  20150112  GOOGL   490.91000   500.28000   497.06000   \n8125323   90319  20150126  GOOGL   532.07001   541.50000   536.71997   \n8125328   90319  20150202  GOOGL   521.71997   536.50000   532.20001   \n8125333   90319  20150209  GOOGL   527.54999   533.88000   529.28003   \n...         ...       ...    ...         ...         ...         ...   \n8126295   90319  20181203  GOOGL  1111.72998  1135.00000  1116.35999   \n8126299   90319  20181210  GOOGL  1033.00000  1059.59998  1053.18005   \n8126304   90319  20181217  GOOGL  1016.63000  1062.38000  1025.65002   \n8126309   90319  20181224  GOOGL   977.65991  1012.11951   984.66998   \n8126313   90319  20181231  GOOGL  1033.03870  1062.98999  1044.95996   \n\n                BID         ASK     OPENPRC      RETX date_string  buy GOOGL  \\\n8125309   519.22998   519.46002   527.15002 -0.019054  2015-01-04         56   \n8125314   497.04999   497.10999   499.23999 -0.007309  2015-01-11         47   \n8125323   536.71002   536.71997   541.50000  -0.00965  2015-01-25         41   \n8125328   531.76001   532.20001   534.32001 -0.009953  2015-02-01         46   \n8125333   529.25000   529.39001   531.06000 -0.008607  2015-02-08         46   \n...             ...         ...         ...       ...         ...        ...   \n8126295  1116.40002  1116.69995  1132.16003  0.006047  2018-12-02         24   \n8126299  1052.51001  1052.93005  1042.93994  0.006306  2018-12-09         28   \n8126304  1026.42004  1026.84998  1047.01001 -0.024779  2018-12-16         36   \n8126309   984.09998   984.52002   984.32001 -0.006638  2018-12-23         67   \n8126313  1045.68005  1046.03003  1057.82996 -0.001643  2018-12-30         61   \n\n         sell GOOGL  GOOGL  \n8125309          41     94  \n8125314          30     95  \n8125323          29     95  \n8125328          60     98  \n8125333          88     97  \n...             ...    ...  \n8126295          48     44  \n8126299          49     43  \n8126304          25     41  \n8126309          69     35  \n8126313          26     35  \n\n[183 rows x 14 columns]\n------------------------------------\nx: \n         buy GOOGL  sell GOOGL  GOOGL\n8125309         56          41     94\n8125314         47          30     95\n8125323         41          29     95\n8125328         46          60     98\n8125333         46          88     97\n...            ...         ...    ...\n8126295         24          48     44\n8126299         28          49     43\n8126304         36          25     41\n8126309         67          69     35\n8126313         61          26     35\n\n[183 rows x 3 columns]\n------------------------------------\ny: \n8125309     519.22998\n8125314     497.04999\n8125323     536.71002\n8125328     531.76001\n8125333     529.25000\n              ...    \n8126295    1116.40002\n8126299    1052.51001\n8126304    1026.42004\n8126309     984.09998\n8126313    1045.68005\nName: BID, Length: 183, dtype: float64\n"
    },
    {
     "ename": "ValueError",
     "evalue": "Unknown label type: (array([ 497.04999,  519.22998,  529.25   ,  531.76001,  534.90997,\n        536.71002,  541.25   ,  542.98999,  543.47998,  543.85999,\n        544.40997,  545.63   ,  545.77002,  546.41998,  548.53003,\n        552.78003,  559.67999,  561.04999,  561.54999,  565.35999,\n        566.09003,  571.71997,  573.81   ,  575.01001,  618.09998,\n        624.12   ,  647.82001,  652.14001,  658.40002,  662.94   ,\n        664.71997,  667.01001,  671.15997,  675.96997,  681.06   ,\n        692.09998,  694.10999,  699.65002,  703.78003,  706.13   ,\n        712.77002,  714.31   ,  717.23999,  727.03998,  728.94   ,\n        729.13   ,  730.     ,  730.28998,  731.16998,  731.85999,\n        733.06   ,  733.60999,  742.09003,  747.28998,  750.06   ,\n        750.41998,  753.20001,  753.21002,  753.27002,  754.53998,\n        757.27002,  757.53003,  759.40002,  760.44   ,  761.96997,\n        762.53998,  762.84003,  764.70001,  772.69   ,  776.5    ,\n        778.21002,  782.21002,  785.14001,  785.70001,  787.67999,\n        795.39001,  795.82001,  796.71002,  798.81   ,  800.08002,\n        802.03003,  802.35999,  805.22998,  805.96002,  806.59003,\n        807.83002,  809.46002,  812.31   ,  814.03998,  821.25   ,\n        823.69   ,  827.16998,  835.52002,  838.5    ,  838.71002,\n        841.67999,  844.42999,  847.14001,  849.46997,  855.15997,\n        856.75   ,  864.59003,  867.90002,  878.94   ,  919.03998,\n        920.34003,  928.01001,  929.26001,  934.08002,  938.91998,\n        942.96997,  945.08002,  945.97998,  950.95001,  958.38   ,\n        959.23999,  961.07001,  963.83002,  967.12   ,  971.53003,\n        974.88   ,  975.73999,  984.09998,  985.53998,  992.34003,\n       1000.34998, 1003.88   , 1008.98999, 1011.52002, 1011.98999,\n       1018.58002, 1019.73999, 1026.42004, 1027.05005, 1032.55005,\n       1034.47998, 1034.88   , 1041.03003, 1042.41003, 1045.68005,\n       1046.09998, 1049.06006, 1051.59998, 1052.51001, 1054.07996,\n       1054.55005, 1055.37   , 1055.64001, 1059.22998, 1062.39001,\n       1072.01001, 1073.81006, 1083.73999, 1085.55005, 1094.66003,\n       1100.06995, 1101.38   , 1106.52002, 1111.27002, 1114.20996,\n       1116.40002, 1139.28003, 1140.55005, 1142.12   , 1143.69995,\n       1153.04004, 1155.60999, 1159.82996, 1163.87   , 1165.92004,\n       1167.19995, 1175.38   , 1179.35999, 1183.65002, 1185.53003,\n       1196.48999, 1211.84998, 1221.93994, 1229.95996, 1237.62   ,\n       1248.64001, 1256.13   ]),)",
     "output_type": "error",
     "traceback": [
      "\u001b[0;31m---------------------------------------------------------------------------\u001b[0m",
      "\u001b[0;31mValueError\u001b[0m                                Traceback (most recent call last)",
      "\u001b[0;32m<ipython-input-56-c9baf531488b>\u001b[0m in \u001b[0;36m<module>\u001b[0;34m\u001b[0m\n\u001b[0;32m----> 1\u001b[0;31m \u001b[0measy\u001b[0m\u001b[0;34m(\u001b[0m\u001b[0;34m\"GOOGL\"\u001b[0m\u001b[0;34m)\u001b[0m\u001b[0;34m\u001b[0m\u001b[0;34m\u001b[0m\u001b[0m\n\u001b[0m",
      "\u001b[0;32m<ipython-input-55-6887d4ba6344>\u001b[0m in \u001b[0;36measy\u001b[0;34m(ticker)\u001b[0m\n\u001b[1;32m     11\u001b[0m     \u001b[0mprint\u001b[0m\u001b[0;34m(\u001b[0m\u001b[0my\u001b[0m\u001b[0;34m)\u001b[0m\u001b[0;34m\u001b[0m\u001b[0;34m\u001b[0m\u001b[0m\n\u001b[1;32m     12\u001b[0m     \u001b[0mclf\u001b[0m \u001b[0;34m=\u001b[0m  \u001b[0mlinear_model\u001b[0m\u001b[0;34m.\u001b[0m\u001b[0mSGDClassifier\u001b[0m\u001b[0;34m(\u001b[0m\u001b[0malpha\u001b[0m\u001b[0;34m=\u001b[0m\u001b[0;36m0.0001\u001b[0m\u001b[0;34m,\u001b[0m \u001b[0maverage\u001b[0m\u001b[0;34m=\u001b[0m\u001b[0;32mFalse\u001b[0m\u001b[0;34m,\u001b[0m \u001b[0mclass_weight\u001b[0m\u001b[0;34m=\u001b[0m\u001b[0;32mNone\u001b[0m\u001b[0;34m,\u001b[0m \u001b[0mearly_stopping\u001b[0m\u001b[0;34m=\u001b[0m\u001b[0;32mFalse\u001b[0m\u001b[0;34m,\u001b[0m \u001b[0mepsilon\u001b[0m\u001b[0;34m=\u001b[0m\u001b[0;36m0.1\u001b[0m\u001b[0;34m,\u001b[0m \u001b[0meta0\u001b[0m\u001b[0;34m=\u001b[0m\u001b[0;36m0.0\u001b[0m\u001b[0;34m,\u001b[0m \u001b[0mfit_intercept\u001b[0m\u001b[0;34m=\u001b[0m\u001b[0;32mTrue\u001b[0m\u001b[0;34m,\u001b[0m \u001b[0ml1_ratio\u001b[0m\u001b[0;34m=\u001b[0m\u001b[0;36m0.15\u001b[0m\u001b[0;34m,\u001b[0m \u001b[0mlearning_rate\u001b[0m\u001b[0;34m=\u001b[0m\u001b[0;34m'optimal'\u001b[0m\u001b[0;34m,\u001b[0m \u001b[0mloss\u001b[0m\u001b[0;34m=\u001b[0m\u001b[0;34m'hinge'\u001b[0m\u001b[0;34m,\u001b[0m \u001b[0mmax_iter\u001b[0m\u001b[0;34m=\u001b[0m\u001b[0;36m1000\u001b[0m\u001b[0;34m,\u001b[0m \u001b[0mn_iter_no_change\u001b[0m\u001b[0;34m=\u001b[0m\u001b[0;36m5\u001b[0m\u001b[0;34m,\u001b[0m \u001b[0mn_jobs\u001b[0m\u001b[0;34m=\u001b[0m\u001b[0;32mNone\u001b[0m\u001b[0;34m,\u001b[0m \u001b[0mpenalty\u001b[0m\u001b[0;34m=\u001b[0m\u001b[0;34m'l2'\u001b[0m\u001b[0;34m,\u001b[0m \u001b[0mpower_t\u001b[0m\u001b[0;34m=\u001b[0m\u001b[0;36m0.5\u001b[0m\u001b[0;34m,\u001b[0m \u001b[0mrandom_state\u001b[0m\u001b[0;34m=\u001b[0m\u001b[0;32mNone\u001b[0m\u001b[0;34m,\u001b[0m \u001b[0mshuffle\u001b[0m\u001b[0;34m=\u001b[0m\u001b[0;32mTrue\u001b[0m\u001b[0;34m,\u001b[0m \u001b[0mtol\u001b[0m\u001b[0;34m=\u001b[0m\u001b[0;36m0.001\u001b[0m\u001b[0;34m,\u001b[0m \u001b[0mvalidation_fraction\u001b[0m\u001b[0;34m=\u001b[0m\u001b[0;36m0.1\u001b[0m\u001b[0;34m,\u001b[0m \u001b[0mverbose\u001b[0m\u001b[0;34m=\u001b[0m\u001b[0;36m0\u001b[0m\u001b[0;34m,\u001b[0m \u001b[0mwarm_start\u001b[0m\u001b[0;34m=\u001b[0m\u001b[0;32mFalse\u001b[0m\u001b[0;34m)\u001b[0m\u001b[0;34m\u001b[0m\u001b[0;34m\u001b[0m\u001b[0m\n\u001b[0;32m---> 13\u001b[0;31m     \u001b[0mclf\u001b[0m\u001b[0;34m.\u001b[0m\u001b[0mfit\u001b[0m\u001b[0;34m(\u001b[0m\u001b[0mX\u001b[0m\u001b[0;34m,\u001b[0m \u001b[0my\u001b[0m\u001b[0;34m)\u001b[0m\u001b[0;34m\u001b[0m\u001b[0;34m\u001b[0m\u001b[0m\n\u001b[0m\u001b[1;32m     14\u001b[0m     \u001b[0mprint\u001b[0m\u001b[0;34m(\u001b[0m\u001b[0mclf\u001b[0m\u001b[0;34m.\u001b[0m\u001b[0mscore\u001b[0m\u001b[0;34m(\u001b[0m\u001b[0mX\u001b[0m\u001b[0;34m,\u001b[0m \u001b[0my\u001b[0m\u001b[0;34m)\u001b[0m\u001b[0;34m)\u001b[0m\u001b[0;34m\u001b[0m\u001b[0;34m\u001b[0m\u001b[0m\n\u001b[1;32m     15\u001b[0m \u001b[0;34m\u001b[0m\u001b[0m\n",
      "\u001b[0;32m~/.local/lib/python3.6/site-packages/sklearn/linear_model/stochastic_gradient.py\u001b[0m in \u001b[0;36mfit\u001b[0;34m(self, X, y, coef_init, intercept_init, sample_weight)\u001b[0m\n\u001b[1;32m    711\u001b[0m                          \u001b[0mloss\u001b[0m\u001b[0;34m=\u001b[0m\u001b[0mself\u001b[0m\u001b[0;34m.\u001b[0m\u001b[0mloss\u001b[0m\u001b[0;34m,\u001b[0m \u001b[0mlearning_rate\u001b[0m\u001b[0;34m=\u001b[0m\u001b[0mself\u001b[0m\u001b[0;34m.\u001b[0m\u001b[0mlearning_rate\u001b[0m\u001b[0;34m,\u001b[0m\u001b[0;34m\u001b[0m\u001b[0;34m\u001b[0m\u001b[0m\n\u001b[1;32m    712\u001b[0m                          \u001b[0mcoef_init\u001b[0m\u001b[0;34m=\u001b[0m\u001b[0mcoef_init\u001b[0m\u001b[0;34m,\u001b[0m \u001b[0mintercept_init\u001b[0m\u001b[0;34m=\u001b[0m\u001b[0mintercept_init\u001b[0m\u001b[0;34m,\u001b[0m\u001b[0;34m\u001b[0m\u001b[0;34m\u001b[0m\u001b[0m\n\u001b[0;32m--> 713\u001b[0;31m                          sample_weight=sample_weight)\n\u001b[0m\u001b[1;32m    714\u001b[0m \u001b[0;34m\u001b[0m\u001b[0m\n\u001b[1;32m    715\u001b[0m \u001b[0;34m\u001b[0m\u001b[0m\n",
      "\u001b[0;32m~/.local/lib/python3.6/site-packages/sklearn/linear_model/stochastic_gradient.py\u001b[0m in \u001b[0;36m_fit\u001b[0;34m(self, X, y, alpha, C, loss, learning_rate, coef_init, intercept_init, sample_weight)\u001b[0m\n\u001b[1;32m    552\u001b[0m \u001b[0;34m\u001b[0m\u001b[0m\n\u001b[1;32m    553\u001b[0m         self._partial_fit(X, y, alpha, C, loss, learning_rate, self.max_iter,\n\u001b[0;32m--> 554\u001b[0;31m                           classes, sample_weight, coef_init, intercept_init)\n\u001b[0m\u001b[1;32m    555\u001b[0m \u001b[0;34m\u001b[0m\u001b[0m\n\u001b[1;32m    556\u001b[0m         if (self.tol is not None and self.tol > -np.inf\n",
      "\u001b[0;32m~/.local/lib/python3.6/site-packages/sklearn/linear_model/stochastic_gradient.py\u001b[0m in \u001b[0;36m_partial_fit\u001b[0;34m(self, X, y, alpha, C, loss, learning_rate, max_iter, classes, sample_weight, coef_init, intercept_init)\u001b[0m\n\u001b[1;32m    482\u001b[0m         \u001b[0mn_samples\u001b[0m\u001b[0;34m,\u001b[0m \u001b[0mn_features\u001b[0m \u001b[0;34m=\u001b[0m \u001b[0mX\u001b[0m\u001b[0;34m.\u001b[0m\u001b[0mshape\u001b[0m\u001b[0;34m\u001b[0m\u001b[0;34m\u001b[0m\u001b[0m\n\u001b[1;32m    483\u001b[0m \u001b[0;34m\u001b[0m\u001b[0m\n\u001b[0;32m--> 484\u001b[0;31m         \u001b[0m_check_partial_fit_first_call\u001b[0m\u001b[0;34m(\u001b[0m\u001b[0mself\u001b[0m\u001b[0;34m,\u001b[0m \u001b[0mclasses\u001b[0m\u001b[0;34m)\u001b[0m\u001b[0;34m\u001b[0m\u001b[0;34m\u001b[0m\u001b[0m\n\u001b[0m\u001b[1;32m    485\u001b[0m \u001b[0;34m\u001b[0m\u001b[0m\n\u001b[1;32m    486\u001b[0m         \u001b[0mn_classes\u001b[0m \u001b[0;34m=\u001b[0m \u001b[0mself\u001b[0m\u001b[0;34m.\u001b[0m\u001b[0mclasses_\u001b[0m\u001b[0;34m.\u001b[0m\u001b[0mshape\u001b[0m\u001b[0;34m[\u001b[0m\u001b[0;36m0\u001b[0m\u001b[0;34m]\u001b[0m\u001b[0;34m\u001b[0m\u001b[0;34m\u001b[0m\u001b[0m\n",
      "\u001b[0;32m~/.local/lib/python3.6/site-packages/sklearn/utils/multiclass.py\u001b[0m in \u001b[0;36m_check_partial_fit_first_call\u001b[0;34m(clf, classes)\u001b[0m\n\u001b[1;32m    318\u001b[0m         \u001b[0;32melse\u001b[0m\u001b[0;34m:\u001b[0m\u001b[0;34m\u001b[0m\u001b[0;34m\u001b[0m\u001b[0m\n\u001b[1;32m    319\u001b[0m             \u001b[0;31m# This is the first call to partial_fit\u001b[0m\u001b[0;34m\u001b[0m\u001b[0;34m\u001b[0m\u001b[0;34m\u001b[0m\u001b[0m\n\u001b[0;32m--> 320\u001b[0;31m             \u001b[0mclf\u001b[0m\u001b[0;34m.\u001b[0m\u001b[0mclasses_\u001b[0m \u001b[0;34m=\u001b[0m \u001b[0munique_labels\u001b[0m\u001b[0;34m(\u001b[0m\u001b[0mclasses\u001b[0m\u001b[0;34m)\u001b[0m\u001b[0;34m\u001b[0m\u001b[0;34m\u001b[0m\u001b[0m\n\u001b[0m\u001b[1;32m    321\u001b[0m             \u001b[0;32mreturn\u001b[0m \u001b[0;32mTrue\u001b[0m\u001b[0;34m\u001b[0m\u001b[0;34m\u001b[0m\u001b[0m\n\u001b[1;32m    322\u001b[0m \u001b[0;34m\u001b[0m\u001b[0m\n",
      "\u001b[0;32m~/.local/lib/python3.6/site-packages/sklearn/utils/multiclass.py\u001b[0m in \u001b[0;36munique_labels\u001b[0;34m(*ys)\u001b[0m\n\u001b[1;32m     92\u001b[0m     \u001b[0m_unique_labels\u001b[0m \u001b[0;34m=\u001b[0m \u001b[0m_FN_UNIQUE_LABELS\u001b[0m\u001b[0;34m.\u001b[0m\u001b[0mget\u001b[0m\u001b[0;34m(\u001b[0m\u001b[0mlabel_type\u001b[0m\u001b[0;34m,\u001b[0m \u001b[0;32mNone\u001b[0m\u001b[0;34m)\u001b[0m\u001b[0;34m\u001b[0m\u001b[0;34m\u001b[0m\u001b[0m\n\u001b[1;32m     93\u001b[0m     \u001b[0;32mif\u001b[0m \u001b[0;32mnot\u001b[0m \u001b[0m_unique_labels\u001b[0m\u001b[0;34m:\u001b[0m\u001b[0;34m\u001b[0m\u001b[0;34m\u001b[0m\u001b[0m\n\u001b[0;32m---> 94\u001b[0;31m         \u001b[0;32mraise\u001b[0m \u001b[0mValueError\u001b[0m\u001b[0;34m(\u001b[0m\u001b[0;34m\"Unknown label type: %s\"\u001b[0m \u001b[0;34m%\u001b[0m \u001b[0mrepr\u001b[0m\u001b[0;34m(\u001b[0m\u001b[0mys\u001b[0m\u001b[0;34m)\u001b[0m\u001b[0;34m)\u001b[0m\u001b[0;34m\u001b[0m\u001b[0;34m\u001b[0m\u001b[0m\n\u001b[0m\u001b[1;32m     95\u001b[0m \u001b[0;34m\u001b[0m\u001b[0m\n\u001b[1;32m     96\u001b[0m     \u001b[0mys_labels\u001b[0m \u001b[0;34m=\u001b[0m \u001b[0mset\u001b[0m\u001b[0;34m(\u001b[0m\u001b[0mchain\u001b[0m\u001b[0;34m.\u001b[0m\u001b[0mfrom_iterable\u001b[0m\u001b[0;34m(\u001b[0m\u001b[0m_unique_labels\u001b[0m\u001b[0;34m(\u001b[0m\u001b[0my\u001b[0m\u001b[0;34m)\u001b[0m \u001b[0;32mfor\u001b[0m \u001b[0my\u001b[0m \u001b[0;32min\u001b[0m \u001b[0mys\u001b[0m\u001b[0;34m)\u001b[0m\u001b[0;34m)\u001b[0m\u001b[0;34m\u001b[0m\u001b[0;34m\u001b[0m\u001b[0m\n",
      "\u001b[0;31mValueError\u001b[0m: Unknown label type: (array([ 497.04999,  519.22998,  529.25   ,  531.76001,  534.90997,\n        536.71002,  541.25   ,  542.98999,  543.47998,  543.85999,\n        544.40997,  545.63   ,  545.77002,  546.41998,  548.53003,\n        552.78003,  559.67999,  561.04999,  561.54999,  565.35999,\n        566.09003,  571.71997,  573.81   ,  575.01001,  618.09998,\n        624.12   ,  647.82001,  652.14001,  658.40002,  662.94   ,\n        664.71997,  667.01001,  671.15997,  675.96997,  681.06   ,\n        692.09998,  694.10999,  699.65002,  703.78003,  706.13   ,\n        712.77002,  714.31   ,  717.23999,  727.03998,  728.94   ,\n        729.13   ,  730.     ,  730.28998,  731.16998,  731.85999,\n        733.06   ,  733.60999,  742.09003,  747.28998,  750.06   ,\n        750.41998,  753.20001,  753.21002,  753.27002,  754.53998,\n        757.27002,  757.53003,  759.40002,  760.44   ,  761.96997,\n        762.53998,  762.84003,  764.70001,  772.69   ,  776.5    ,\n        778.21002,  782.21002,  785.14001,  785.70001,  787.67999,\n        795.39001,  795.82001,  796.71002,  798.81   ,  800.08002,\n        802.03003,  802.35999,  805.22998,  805.96002,  806.59003,\n        807.83002,  809.46002,  812.31   ,  814.03998,  821.25   ,\n        823.69   ,  827.16998,  835.52002,  838.5    ,  838.71002,\n        841.67999,  844.42999,  847.14001,  849.46997,  855.15997,\n        856.75   ,  864.59003,  867.90002,  878.94   ,  919.03998,\n        920.34003,  928.01001,  929.26001,  934.08002,  938.91998,\n        942.96997,  945.08002,  945.97998,  950.95001,  958.38   ,\n        959.23999,  961.07001,  963.83002,  967.12   ,  971.53003,\n        974.88   ,  975.73999,  984.09998,  985.53998,  992.34003,\n       1000.34998, 1003.88   , 1008.98999, 1011.52002, 1011.98999,\n       1018.58002, 1019.73999, 1026.42004, 1027.05005, 1032.55005,\n       1034.47998, 1034.88   , 1041.03003, 1042.41003, 1045.68005,\n       1046.09998, 1049.06006, 1051.59998, 1052.51001, 1054.07996,\n       1054.55005, 1055.37   , 1055.64001, 1059.22998, 1062.39001,\n       1072.01001, 1073.81006, 1083.73999, 1085.55005, 1094.66003,\n       1100.06995, 1101.38   , 1106.52002, 1111.27002, 1114.20996,\n       1116.40002, 1139.28003, 1140.55005, 1142.12   , 1143.69995,\n       1153.04004, 1155.60999, 1159.82996, 1163.87   , 1165.92004,\n       1167.19995, 1175.38   , 1179.35999, 1183.65002, 1185.53003,\n       1196.48999, 1211.84998, 1221.93994, 1229.95996, 1237.62   ,\n       1248.64001, 1256.13   ]),)"
     ]
    }
   ],
   "source": [
    "easy(\"GOOGL\")"
   ]
  },
  {
   "cell_type": "code",
   "execution_count": 72,
   "metadata": {},
   "outputs": [
    {
     "ename": "TypeError",
     "evalue": "getdf() missing 1 required positional argument: 'ticker'",
     "output_type": "error",
     "traceback": [
      "\u001b[0;31m---------------------------------------------------------------------------\u001b[0m",
      "\u001b[0;31mTypeError\u001b[0m                                 Traceback (most recent call last)",
      "\u001b[0;32m<ipython-input-72-464ea39053c2>\u001b[0m in \u001b[0;36m<module>\u001b[0;34m\u001b[0m\n\u001b[0;32m----> 1\u001b[0;31m \u001b[0mgetdf\u001b[0m\u001b[0;34m(\u001b[0m\u001b[0;34m\"AMZN\"\u001b[0m\u001b[0;34m)\u001b[0m\u001b[0;34m\u001b[0m\u001b[0;34m\u001b[0m\u001b[0m\n\u001b[0m",
      "\u001b[0;31mTypeError\u001b[0m: getdf() missing 1 required positional argument: 'ticker'"
     ]
    }
   ],
   "source": []
  },
  {
   "cell_type": "code",
   "execution_count": 0,
   "metadata": {},
   "outputs": [],
   "source": [
    "getdf(\"TSLA\")"
   ]
  },
  {
   "cell_type": "code",
   "execution_count": 0,
   "metadata": {},
   "outputs": [],
   "source": [
    "d = getdata('MSFT')"
   ]
  },
  {
   "cell_type": "code",
   "execution_count": 40,
   "metadata": {},
   "outputs": [
    {
     "data": {
      "text/html": [
       "<div>\n",
       "<style scoped>\n",
       "    .dataframe tbody tr th:only-of-type {\n",
       "        vertical-align: middle;\n",
       "    }\n",
       "\n",
       "    .dataframe tbody tr th {\n",
       "        vertical-align: top;\n",
       "    }\n",
       "\n",
       "    .dataframe thead th {\n",
       "        text-align: right;\n",
       "    }\n",
       "</style>\n",
       "<table border=\"1\" class=\"dataframe\">\n",
       "  <thead>\n",
       "    <tr style=\"text-align: right;\">\n",
       "      <th></th>\n",
       "      <th>MSFT</th>\n",
       "      <th>isPartial</th>\n",
       "    </tr>\n",
       "    <tr>\n",
       "      <th>date</th>\n",
       "      <th></th>\n",
       "      <th></th>\n",
       "    </tr>\n",
       "  </thead>\n",
       "  <tbody>\n",
       "    <tr>\n",
       "      <th>2014-12-07</th>\n",
       "      <td>18</td>\n",
       "      <td>False</td>\n",
       "    </tr>\n",
       "    <tr>\n",
       "      <th>2014-12-14</th>\n",
       "      <td>18</td>\n",
       "      <td>False</td>\n",
       "    </tr>\n",
       "    <tr>\n",
       "      <th>2014-12-21</th>\n",
       "      <td>15</td>\n",
       "      <td>False</td>\n",
       "    </tr>\n",
       "    <tr>\n",
       "      <th>2014-12-28</th>\n",
       "      <td>14</td>\n",
       "      <td>False</td>\n",
       "    </tr>\n",
       "    <tr>\n",
       "      <th>2015-01-04</th>\n",
       "      <td>16</td>\n",
       "      <td>False</td>\n",
       "    </tr>\n",
       "    <tr>\n",
       "      <th>...</th>\n",
       "      <td>...</td>\n",
       "      <td>...</td>\n",
       "    </tr>\n",
       "    <tr>\n",
       "      <th>2019-10-27</th>\n",
       "      <td>74</td>\n",
       "      <td>False</td>\n",
       "    </tr>\n",
       "    <tr>\n",
       "      <th>2019-11-03</th>\n",
       "      <td>52</td>\n",
       "      <td>False</td>\n",
       "    </tr>\n",
       "    <tr>\n",
       "      <th>2019-11-10</th>\n",
       "      <td>55</td>\n",
       "      <td>False</td>\n",
       "    </tr>\n",
       "    <tr>\n",
       "      <th>2019-11-17</th>\n",
       "      <td>55</td>\n",
       "      <td>False</td>\n",
       "    </tr>\n",
       "    <tr>\n",
       "      <th>2019-11-24</th>\n",
       "      <td>46</td>\n",
       "      <td>False</td>\n",
       "    </tr>\n",
       "  </tbody>\n",
       "</table>\n",
       "<p>260 rows × 2 columns</p>\n",
       "</div>"
      ],
      "text/plain": [
       "            MSFT  isPartial\n",
       "date                       \n",
       "2014-12-07    18      False\n",
       "2014-12-14    18      False\n",
       "2014-12-21    15      False\n",
       "2014-12-28    14      False\n",
       "2015-01-04    16      False\n",
       "...          ...        ...\n",
       "2019-10-27    74      False\n",
       "2019-11-03    52      False\n",
       "2019-11-10    55      False\n",
       "2019-11-17    55      False\n",
       "2019-11-24    46      False\n",
       "\n",
       "[260 rows x 2 columns]"
      ]
     },
     "execution_count": 40,
     "metadata": {},
     "output_type": "execute_result"
    }
   ],
   "source": []
  },
  {
   "cell_type": "code",
   "execution_count": null,
   "metadata": {},
   "outputs": [],
   "source": []
  }
 ],
 "metadata": {
  "kernelspec": {
   "display_name": "Python 3",
   "language": "python",
   "name": "python3"
  },
  "language_info": {
   "codemirror_mode": {
    "name": "ipython",
    "version": 3
   },
   "file_extension": ".py",
   "mimetype": "text/x-python",
   "name": "python",
   "nbconvert_exporter": "python",
   "pygments_lexer": "ipython3",
   "version": "3.6.8"
  }
 },
 "nbformat": 4,
 "nbformat_minor": 2
}