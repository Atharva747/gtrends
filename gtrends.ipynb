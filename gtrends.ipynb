{
 "cells": [
  {
   "cell_type": "code",
   "metadata": {},
   "outputs": [],
   "source": [
    "from pytrends.request import TrendReq\n",
    "import pandas as pd\n",
    "import matplotlib.pyplot as plt\n",
    "import numpy as np"
   ]
  },
  {
   "cell_type": "code",
   "metadata": {},
   "outputs": [],
   "source": [
    "pytrends = TrendReq(hl='en-US', tz=360, timeout=(10,25))"
   ]
  },
  {
   "cell_type": "code",
   "metadata": {},
   "outputs": [],
   "source": [
    "def getdata(term):\n",
    "\tkw_list = [term]\n",
    "\tpytrends.build_payload(kw_list, cat=0, timeframe='today 5-y', geo='', gprop='')\n",
    "\tdf = pytrends.interest_over_time()\n",
    "\treturn df"
   ]
  },
  {
   "cell_type": "code",
   "metadata": {},
   "outputs": [],
   "source": [
    "def plotdata(term):\n",
    "    df = getdata(term)\n",
    "    df.plot()"
   ]
  },
  {
   "cell_type": "code",
   "metadata": {},
   "outputs": [],
   "source": [
    "stocks = pd.read_csv(\"data/daily_stocks.csv\")"
   ]
  },
  {
   "cell_type": "code",
   "metadata": {},
   "outputs": [],
   "source": [
    "newstocks = stocks[stocks['date']>20150000] # Restrict to data after 2015"
   ]
  },
  {
   "cell_type": "code",
   "metadata": {},
   "outputs": [],
   "source": [
    "newstocks"
   ]
  },
  {
   "cell_type": "code",
   "metadata": {},
   "outputs": [],
   "source": [
    "def find_date_string(row):\n",
    "    ds = str(row['date']-1)\n",
    "    dates = ds[:4] + \"-\" + ds[4:6] + \"-\" + ds[6:]\n",
    "    return dates"
   ]
  },
  {
   "cell_type": "code",
   "metadata": {},
   "outputs": [],
   "source": [
    "def getdf(searches, ticker):\n",
    "    df = newstocks[newstocks[\"TICKER\"]==ticker]\n",
    "    df['date_string'] = df.apply(lambda row: find_date_string(row), axis=1)\n",
    "    trends_data = getdata(searches[0])\n",
    "    for i in range(1, len(searches)):\n",
    "        s = searches[i]\n",
    "        newtrends = getdata(s)\n",
    "        trends_data = trends_data.join(newtrends, rsuffix='_'+s)\n",
    "    print(trends_data)\n",
    "    s = set(trends_data.index.values)\n",
    "    s = set([str(x)[:10] for x in s])\n",
    "    df = df[df['date_string'].isin(s)]\n",
    "    #df.plot(y='BID')\n",
    "    for s in searches:\n",
    "        df[s] = df.apply(lambda row: trends_data.loc[row['date_string']][s], axis=1)\n",
    "        #df.plot(y=s)\n",
    "    #print(df)\n",
    "    return df"
   ]
  },
  {
   "cell_type": "code",
   "metadata": {},
   "outputs": [],
   "source": [
    "from sklearn.linear_model import *\n",
    "from sklearn.model_selection import train_test_split\n",
    "from sklearn.svm import *\n",
    "from sklearn.ensemble import *\n",
    "from sklearn.neural_network import *\n",
    "from sklearn import preprocessing"
   ]
  },
  {
   "cell_type": "code",
   "metadata": {},
   "outputs": [],
   "source": [
    "def regressions(ticker, pct):\n",
    "    features = [\"buy \" + ticker, \"sell \" + ticker, ticker]\n",
    "    data = getdf(features, ticker)\n",
    "    data[\"diff\"] = data.apply(lambda row: row[\"buy \" + ticker] - row[\"sell \" + ticker], axis = 1)\n",
    "    returns = data[\"BID\"].pct_change()\n",
    "    returns = returns.fillna(0)\n",
    "    #data[\"returns\"] = data.apply(lambda row: row[\"BID\"] - row.shift(1)[\"BID\"], axis = 1)\n",
    "    #print(data)\n",
    "    #features.append(\"diff\")\n",
    "    #features.append(\"returns\")\n",
    "    X = pd.DataFrame(data, columns=features)\n",
    "    X = preprocessing.scale(X)\n",
    "    if pct:\n",
    "        y = returns\n",
    "    else:\n",
    "        y = data[\"BID\"]\n",
    "    y = preprocessing.scale(y)\n",
    "    X_train, X_test, y_train, y_test = train_test_split(X, y, test_size=0.2)\n",
    "    \n",
    "    #Linear regression\n",
    "    lm = LinearRegression()\n",
    "    m1 = lm.fit(X_train, y_train)\n",
    "    \n",
    "    #Ridge Regression, auto alpha\n",
    "    lr = RidgeCV()\n",
    "    m2 = lr.fit(X_train, y_train)\n",
    "    \n",
    "    #SVR \n",
    "    svr = SVR(gamma='scale', C=5.0, epsilon=0.1)\n",
    "    m3 = svr.fit(X_train, y_train)\n",
    "    \n",
    "    #Adaboost regression\n",
    "    adb = AdaBoostRegressor()\n",
    "    m4 = adb.fit(X_train, y_train)\n",
    "    \n",
    "    #Neural Net\n",
    "    mlp = MLPRegressor(max_iter=2000)\n",
    "    m5 = mlp.fit(X_train, y_train)\n",
    "    \n",
    "    #Random forest\n",
    "    rfr = RandomForestRegressor()\n",
    "    m6 = rfr.fit(X_train, y_train)\n",
    "    \n",
    "    return lm.score(X_test, y_test), lr.score(X_test, y_test), svr.score(X_test, y_test), adb.score(X_test, y_test), mlp.score(X_test, y_test), rfr.score(X_test, y_test)\n",
    "\n",
    "\n"
   ]
  },
  {
   "cell_type": "code",
   "metadata": {},
   "outputs": [],
   "source": [
    "tickers = [\"FB\", \"F\", \"GOOGL\", \"AMZN\", \"MSFT\", \"IBM\", \"BAC\", \"TSLA\", \"AAPL\", \"NFLX\"]\n",
    "\n",
    "print(\"(Linear regression, SVR, Adaboost, Neural Net, Random Forest regressor)\")\n",
    "\n",
    "for t in tickers:\n",
    "    print(t)\n",
    "    print(regressions(t, 0))"
   ]
  },
  {
   "cell_type": "code",
   "metadata": {},
   "outputs": [],
   "source": [
    "import warnings\n",
    "warnings.filterwarnings('ignore')"
   ]
  },
  {
   "cell_type": "code",
   "metadata": {},
   "outputs": [],
   "source": [
    "def classify(ticker):\n",
    "    features = [\"buy \" + ticker, \"sell \" + ticker, ticker]\n",
    "    data = getdf(features, ticker)\n",
    "    data[\"diff\"] = data.apply(lambda row: row[\"buy \" + ticker] - row[\"sell \" + ticker], axis = 1)\n",
    "    returns = data[\"BID\"].pct_change()\n",
    "    returns = returns.fillna(0)\n",
    "    #data[\"returns\"] = data.apply(lambda row: row[\"BID\"] - row.shift(1)[\"BID\"], axis = 1)\n",
    "    #print(data)\n",
    "    features.append(\"diff\")\n",
    "    #features.append(\"returns\")\n",
    "    X = pd.DataFrame(data, columns=features)\n",
    "    X = preprocessing.scale(X)\n",
    "    y = returns\n",
    "    y = preprocessing.scale(y)\n",
    "    y = np.sign(y)\n",
    "    X_train, X_test, y_train, y_test = train_test_split(X, y, test_size=0.2, shuffle=False)\n",
    "    \n",
    "    #Linear regression\n",
    "    lr = LogisticRegression()\n",
    "    m1 = lr.fit(X_train, y_train)\n",
    "    \n",
    "    #SVC \n",
    "    svc = SVC()\n",
    "    m3 = svc.fit(X_train, y_train)\n",
    "    \n",
    "    #Adaboost classifier\n",
    "    adb = AdaBoostClassifier(n_estimators=100, random_state=0)\n",
    "    m4 = adb.fit(X_train, y_train)\n",
    "    \n",
    "    #Neural Net\n",
    "    mlp = MLPClassifier(max_iter=2000)\n",
    "    m5 = mlp.fit(X_train, y_train)\n",
    "    \n",
    "    #Random forest\n",
    "    rfc = RandomForestClassifier()\n",
    "    m6 = rfc.fit(X_train, y_train)\n",
    "    \n",
    "    return lr.score(X_test, y_test), svc.score(X_test, y_test), adb.score(X_test, y_test), mlp.score(X_test, y_test), rfc.score(X_test, y_test)\n",
    "\n"
   ]
  },
  {
   "cell_type": "code",
   "metadata": {},
   "outputs": [],
   "source": [
    "print(\"(Logistic regression, SVC, Adaboost, Neural Net, Random Forest)\")\n",
    "for t in tickers:\n",
    "    print(t)\n",
    "    print(classify(t))\n",
    "    "
   ]
  },
  {
   "cell_type": "code",
   "metadata": {},
   "outputs": [],
   "source": [
    "def profit(ticker):\n",
    "    features = [\"buy \" + ticker, \"sell \" + ticker, ticker]\n",
    "    data = getdf(features, ticker)\n",
    "    data[\"diff\"] = data.apply(lambda row: row[\"buy \" + ticker] - row[\"sell \" + ticker], axis = 1)\n",
    "    #features.append(\"diff\")\n",
    "    X = pd.DataFrame(data, columns=features)\n",
    "    #X = preprocessing.scale(X)\n",
    "    y = data[\"BID\"]\n",
    "    #y = preprocessing.scale(y)\n",
    "    X_train, X_test, y_train, y_test = train_test_split(X, y, test_size=0.25, shuffle=True)\n",
    "    \n",
    "#     #Linear regression\n",
    "#     lm = LinearRegression()\n",
    "#     m1 = lm.fit(X_train, y_train)\n",
    "    \n",
    "#     #Ridge Regression, auto alpha\n",
    "#     lr = RidgeCV()\n",
    "#     m2 = lr.fit(X_train, y_train)\n",
    "    \n",
    "#     #SVR \n",
    "#     svr = SVR(gamma='scale', C=5.0, epsilon=0.1)\n",
    "#     m3 = svr.fit(X_train, y_train)\n",
    "    \n",
    "#     #Adaboost regression\n",
    "#     adb = AdaBoostRegressor()\n",
    "#     m4 = adb.fit(X_train, y_train)\n",
    "    \n",
    "#     #Neural Net\n",
    "#     mlp = MLPRegressor(max_iter=2000)\n",
    "#     m5 = mlp.fit(X_train, y_train)\n",
    "    #print(y)\n",
    "    #Random forest\n",
    "    rfr = RandomForestRegressor()\n",
    "    m6 = rfr.fit(X_train, y_train)\n",
    "    assert len(X_test)==len(y_test)\n",
    "#     for i in range(len(X_test)):\n",
    "#         print(y_test[i+1])\n",
    "#         #print(str(rfr.predict([X_test[i]])) + \" \" + str(y_test[i]))\n",
    "    earnings = 0\n",
    "    numtrades = 0\n",
    "    for index, row in X_test.iterrows():\n",
    "        #print(index)\n",
    "        #print(str(rfr.predict([row])) + \" \" + str(y_test[index]))\n",
    "        buy = 0\n",
    "        prediction = rfr.predict([row])\n",
    "        i = 1\n",
    "        while((index - i) not in y and i!= 100):\n",
    "            i+=1\n",
    "        if i == 100:\n",
    "            break\n",
    "        #print(index-i)\n",
    "        if prediction > y[index-i]:\n",
    "            buy = 1\n",
    "        if buy == 1:\n",
    "            earnings += y[index] - y[index - i]\n",
    "        else:\n",
    "            earnings += y[index-i] - y[index]\n",
    "        numtrades += 1\n",
    "    return earnings, numtrades\n",
    "#     return lm.score(X_test, y_test), lr.score(X_test, y_test), svr.score(X_test, y_test), adb.score(X_test, y_test), mlp.score(X_test, y_test), rfr.score(X_test, y_test)\n",
    "\n",
    "\n"
   ]
  },
  {
   "cell_type": "code",
   "metadata": {},
   "outputs": [],
   "source": [
    "for t in tickers:\n",
    "    print(t)\n",
    "    print(profit(t))"
   ]
  },
  {
   "cell_type": "code",
   "metadata": {},
   "outputs": [],
   "source": []
  },
  {
   "cell_type": "code",
   "metadata": {},
   "outputs": [],
   "source": []
  }
 ],
 "metadata": {
  "kernelspec": {
   "display_name": "Python 3",
   "language": "python",
   "name": "python3"
  },
  "language_info": {
   "codemirror_mode": {
    "name": "ipython",
    "version": 3
   },
   "file_extension": ".py",
   "mimetype": "text/x-python",
   "name": "python",
   "nbconvert_exporter": "python",
   "pygments_lexer": "ipython3",
   "version": "3.6.8"
  }
 },
 "nbformat": 4,
 "nbformat_minor": 2
}